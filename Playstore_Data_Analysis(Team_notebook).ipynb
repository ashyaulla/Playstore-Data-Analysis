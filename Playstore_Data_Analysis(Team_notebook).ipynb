{
  "nbformat": 4,
  "nbformat_minor": 0,
  "metadata": {
    "colab": {
      "name": "Playstore Data Analysis(Team notebook)",
      "provenance": [],
      "collapsed_sections": [],
      "include_colab_link": true
    },
    "kernelspec": {
      "name": "python3",
      "display_name": "Python 3"
    },
    "language_info": {
      "name": "python"
    }
  },
  "cells": [
    {
      "cell_type": "markdown",
      "metadata": {
        "id": "view-in-github",
        "colab_type": "text"
      },
      "source": [
        "<a href=\"https://colab.research.google.com/github/ashyaulla/Playstore-Data-Analysis/blob/main/Playstore_Data_Analysis(Team_notebook).ipynb\" target=\"_parent\"><img src=\"https://colab.research.google.com/assets/colab-badge.svg\" alt=\"Open In Colab\"/></a>"
      ]
    },
    {
      "cell_type": "markdown",
      "metadata": {
        "id": "Y06xIdG26kRF"
      },
      "source": [
        "##                              **Problem statement**\n",
        "\n",
        "\n",
        "\n",
        "## <b> The Play Store apps data has enormous potential to drive app-making businesses to success. Actionable insights can be drawn for developers to work on and capture the Android market. </b>\n",
        "\n",
        "## <b> Each app (row) has values for catergory, rating, size, and more. Another dataset contains customer reviews of the android apps.</b>\n",
        "\n",
        "## <b> Explore and analyze the data to discover key factors responsible for app engagement and success. </b> "
      ]
    },
    {
      "cell_type": "markdown",
      "metadata": {
        "id": "1Mwr_MFLZT0B"
      },
      "source": [
        "### **1.Data Preparation and Cleaning**\n",
        "\n",
        "---\n"
      ]
    },
    {
      "cell_type": "code",
      "metadata": {
        "id": "JZ7idoysY6DT"
      },
      "source": [
        "#importing the required libraries\n",
        "import pandas as pd\n",
        "import numpy as np\n",
        "import seaborn as sns\n",
        "import matplotlib.pyplot as plt\n",
        "import matplotlib\n",
        "%matplotlib inline\n",
        "from datetime import datetime"
      ],
      "execution_count": 1,
      "outputs": []
    },
    {
      "cell_type": "code",
      "metadata": {
        "id": "HsP8Ka_v8djD",
        "colab": {
          "base_uri": "https://localhost:8080/"
        },
        "outputId": "72891e42-9bb9-4a36-a49a-4c835456fd16"
      },
      "source": [
        "#mounting the drive containing the data files\n",
        "from google.colab import drive\n",
        "drive.mount('/content/drive')"
      ],
      "execution_count": 2,
      "outputs": [
        {
          "output_type": "stream",
          "text": [
            "Mounted at /content/drive\n"
          ],
          "name": "stdout"
        }
      ]
    },
    {
      "cell_type": "code",
      "metadata": {
        "id": "0R0b6YyuY8i6"
      },
      "source": [
        "#reading the playstore data ande user reviews data\n",
        "PS_df=pd.read_csv('/content/drive/MyDrive/Colab Notebooks/Capstone projects/Project 1- Playstore Data Analysis/ PlayStore_Data.csv')\n",
        "UR_df=pd.read_csv('/content/drive/MyDrive/Colab Notebooks/Capstone projects/Project 1- Playstore Data Analysis/ User_Reviews.csv')\n"
      ],
      "execution_count": 3,
      "outputs": []
    },
    {
      "cell_type": "markdown",
      "metadata": {
        "id": "eyLcqFGza7GG"
      },
      "source": [
        "## ***Playstore data***"
      ]
    },
    {
      "cell_type": "code",
      "metadata": {
        "colab": {
          "base_uri": "https://localhost:8080/"
        },
        "id": "gpH4me7DhWcO",
        "outputId": "a344cbcc-8140-4daa-999a-4abd12acfce4"
      },
      "source": [
        "#To understand the components of the playstore data file\n",
        "PS_df.info( )\n"
      ],
      "execution_count": 4,
      "outputs": [
        {
          "output_type": "stream",
          "text": [
            "<class 'pandas.core.frame.DataFrame'>\n",
            "RangeIndex: 10841 entries, 0 to 10840\n",
            "Data columns (total 13 columns):\n",
            " #   Column          Non-Null Count  Dtype  \n",
            "---  ------          --------------  -----  \n",
            " 0   App             10841 non-null  object \n",
            " 1   Category        10841 non-null  object \n",
            " 2   Rating          9367 non-null   float64\n",
            " 3   Reviews         10841 non-null  object \n",
            " 4   Size            10841 non-null  object \n",
            " 5   Installs        10841 non-null  object \n",
            " 6   Type            10840 non-null  object \n",
            " 7   Price           10841 non-null  object \n",
            " 8   Content Rating  10840 non-null  object \n",
            " 9   Genres          10841 non-null  object \n",
            " 10  Last Updated    10841 non-null  object \n",
            " 11  Current Ver     10833 non-null  object \n",
            " 12  Android Ver     10838 non-null  object \n",
            "dtypes: float64(1), object(12)\n",
            "memory usage: 1.1+ MB\n"
          ],
          "name": "stdout"
        }
      ]
    },
    {
      "cell_type": "code",
      "metadata": {
        "colab": {
          "base_uri": "https://localhost:8080/",
          "height": 306
        },
        "id": "QO_yW6Mek8ps",
        "outputId": "c8e55846-e99a-45b4-a67d-2e8f36f95319"
      },
      "source": [
        "#To display the first 5 observations of the data \n",
        "PS_df.head(5)"
      ],
      "execution_count": 5,
      "outputs": [
        {
          "output_type": "execute_result",
          "data": {
            "text/html": [
              "<div>\n",
              "<style scoped>\n",
              "    .dataframe tbody tr th:only-of-type {\n",
              "        vertical-align: middle;\n",
              "    }\n",
              "\n",
              "    .dataframe tbody tr th {\n",
              "        vertical-align: top;\n",
              "    }\n",
              "\n",
              "    .dataframe thead th {\n",
              "        text-align: right;\n",
              "    }\n",
              "</style>\n",
              "<table border=\"1\" class=\"dataframe\">\n",
              "  <thead>\n",
              "    <tr style=\"text-align: right;\">\n",
              "      <th></th>\n",
              "      <th>App</th>\n",
              "      <th>Category</th>\n",
              "      <th>Rating</th>\n",
              "      <th>Reviews</th>\n",
              "      <th>Size</th>\n",
              "      <th>Installs</th>\n",
              "      <th>Type</th>\n",
              "      <th>Price</th>\n",
              "      <th>Content Rating</th>\n",
              "      <th>Genres</th>\n",
              "      <th>Last Updated</th>\n",
              "      <th>Current Ver</th>\n",
              "      <th>Android Ver</th>\n",
              "    </tr>\n",
              "  </thead>\n",
              "  <tbody>\n",
              "    <tr>\n",
              "      <th>0</th>\n",
              "      <td>Photo Editor &amp; Candy Camera &amp; Grid &amp; ScrapBook</td>\n",
              "      <td>ART_AND_DESIGN</td>\n",
              "      <td>4.1</td>\n",
              "      <td>159</td>\n",
              "      <td>19M</td>\n",
              "      <td>10,000+</td>\n",
              "      <td>Free</td>\n",
              "      <td>0</td>\n",
              "      <td>Everyone</td>\n",
              "      <td>Art &amp; Design</td>\n",
              "      <td>January 7, 2018</td>\n",
              "      <td>1.0.0</td>\n",
              "      <td>4.0.3 and up</td>\n",
              "    </tr>\n",
              "    <tr>\n",
              "      <th>1</th>\n",
              "      <td>Coloring book moana</td>\n",
              "      <td>ART_AND_DESIGN</td>\n",
              "      <td>3.9</td>\n",
              "      <td>967</td>\n",
              "      <td>14M</td>\n",
              "      <td>500,000+</td>\n",
              "      <td>Free</td>\n",
              "      <td>0</td>\n",
              "      <td>Everyone</td>\n",
              "      <td>Art &amp; Design;Pretend Play</td>\n",
              "      <td>January 15, 2018</td>\n",
              "      <td>2.0.0</td>\n",
              "      <td>4.0.3 and up</td>\n",
              "    </tr>\n",
              "    <tr>\n",
              "      <th>2</th>\n",
              "      <td>U Launcher Lite – FREE Live Cool Themes, Hide ...</td>\n",
              "      <td>ART_AND_DESIGN</td>\n",
              "      <td>4.7</td>\n",
              "      <td>87510</td>\n",
              "      <td>8.7M</td>\n",
              "      <td>5,000,000+</td>\n",
              "      <td>Free</td>\n",
              "      <td>0</td>\n",
              "      <td>Everyone</td>\n",
              "      <td>Art &amp; Design</td>\n",
              "      <td>August 1, 2018</td>\n",
              "      <td>1.2.4</td>\n",
              "      <td>4.0.3 and up</td>\n",
              "    </tr>\n",
              "    <tr>\n",
              "      <th>3</th>\n",
              "      <td>Sketch - Draw &amp; Paint</td>\n",
              "      <td>ART_AND_DESIGN</td>\n",
              "      <td>4.5</td>\n",
              "      <td>215644</td>\n",
              "      <td>25M</td>\n",
              "      <td>50,000,000+</td>\n",
              "      <td>Free</td>\n",
              "      <td>0</td>\n",
              "      <td>Teen</td>\n",
              "      <td>Art &amp; Design</td>\n",
              "      <td>June 8, 2018</td>\n",
              "      <td>Varies with device</td>\n",
              "      <td>4.2 and up</td>\n",
              "    </tr>\n",
              "    <tr>\n",
              "      <th>4</th>\n",
              "      <td>Pixel Draw - Number Art Coloring Book</td>\n",
              "      <td>ART_AND_DESIGN</td>\n",
              "      <td>4.3</td>\n",
              "      <td>967</td>\n",
              "      <td>2.8M</td>\n",
              "      <td>100,000+</td>\n",
              "      <td>Free</td>\n",
              "      <td>0</td>\n",
              "      <td>Everyone</td>\n",
              "      <td>Art &amp; Design;Creativity</td>\n",
              "      <td>June 20, 2018</td>\n",
              "      <td>1.1</td>\n",
              "      <td>4.4 and up</td>\n",
              "    </tr>\n",
              "  </tbody>\n",
              "</table>\n",
              "</div>"
            ],
            "text/plain": [
              "                                                 App  ...   Android Ver\n",
              "0     Photo Editor & Candy Camera & Grid & ScrapBook  ...  4.0.3 and up\n",
              "1                                Coloring book moana  ...  4.0.3 and up\n",
              "2  U Launcher Lite – FREE Live Cool Themes, Hide ...  ...  4.0.3 and up\n",
              "3                              Sketch - Draw & Paint  ...    4.2 and up\n",
              "4              Pixel Draw - Number Art Coloring Book  ...    4.4 and up\n",
              "\n",
              "[5 rows x 13 columns]"
            ]
          },
          "metadata": {
            "tags": []
          },
          "execution_count": 5
        }
      ]
    },
    {
      "cell_type": "code",
      "metadata": {
        "colab": {
          "base_uri": "https://localhost:8080/"
        },
        "id": "4lcAvPJ7zpZR",
        "outputId": "2ab14902-0094-4823-d024-bbf6bf60533e"
      },
      "source": [
        "# Return the count of duplicates in the Playstore datafarme\n",
        "PS_df.duplicated().value_counts()\n"
      ],
      "execution_count": 6,
      "outputs": [
        {
          "output_type": "execute_result",
          "data": {
            "text/plain": [
              "False    10358\n",
              "True       483\n",
              "dtype: int64"
            ]
          },
          "metadata": {
            "tags": []
          },
          "execution_count": 6
        }
      ]
    },
    {
      "cell_type": "code",
      "metadata": {
        "id": "fZNe9eKjkGwb"
      },
      "source": [
        "# Updates the playstore dataframe with duplicate rows removed\n",
        "PS_df.drop_duplicates(inplace=True)\n"
      ],
      "execution_count": 7,
      "outputs": []
    },
    {
      "cell_type": "code",
      "metadata": {
        "id": "6edrpQRcusL5",
        "colab": {
          "base_uri": "https://localhost:8080/"
        },
        "outputId": "fa0a8d79-79ae-4956-ee8e-16f93e108bf9"
      },
      "source": [
        "#To understand the components of the playstore data file and to identify the rows with NaN values\n",
        "PS_df.info( )\n"
      ],
      "execution_count": 8,
      "outputs": [
        {
          "output_type": "stream",
          "text": [
            "<class 'pandas.core.frame.DataFrame'>\n",
            "Int64Index: 10358 entries, 0 to 10840\n",
            "Data columns (total 13 columns):\n",
            " #   Column          Non-Null Count  Dtype  \n",
            "---  ------          --------------  -----  \n",
            " 0   App             10358 non-null  object \n",
            " 1   Category        10358 non-null  object \n",
            " 2   Rating          8893 non-null   float64\n",
            " 3   Reviews         10358 non-null  object \n",
            " 4   Size            10358 non-null  object \n",
            " 5   Installs        10358 non-null  object \n",
            " 6   Type            10357 non-null  object \n",
            " 7   Price           10358 non-null  object \n",
            " 8   Content Rating  10357 non-null  object \n",
            " 9   Genres          10358 non-null  object \n",
            " 10  Last Updated    10358 non-null  object \n",
            " 11  Current Ver     10350 non-null  object \n",
            " 12  Android Ver     10355 non-null  object \n",
            "dtypes: float64(1), object(12)\n",
            "memory usage: 1.1+ MB\n"
          ],
          "name": "stdout"
        }
      ]
    },
    {
      "cell_type": "code",
      "metadata": {
        "colab": {
          "base_uri": "https://localhost:8080/",
          "height": 114
        },
        "id": "LR4DeyWBvdhU",
        "outputId": "63235577-e828-411c-c507-3ff1b2d279b9"
      },
      "source": [
        "#identifying the app with type NaN\n",
        "PS_df[PS_df['Type'].isnull()]\n"
      ],
      "execution_count": 9,
      "outputs": [
        {
          "output_type": "execute_result",
          "data": {
            "text/html": [
              "<div>\n",
              "<style scoped>\n",
              "    .dataframe tbody tr th:only-of-type {\n",
              "        vertical-align: middle;\n",
              "    }\n",
              "\n",
              "    .dataframe tbody tr th {\n",
              "        vertical-align: top;\n",
              "    }\n",
              "\n",
              "    .dataframe thead th {\n",
              "        text-align: right;\n",
              "    }\n",
              "</style>\n",
              "<table border=\"1\" class=\"dataframe\">\n",
              "  <thead>\n",
              "    <tr style=\"text-align: right;\">\n",
              "      <th></th>\n",
              "      <th>App</th>\n",
              "      <th>Category</th>\n",
              "      <th>Rating</th>\n",
              "      <th>Reviews</th>\n",
              "      <th>Size</th>\n",
              "      <th>Installs</th>\n",
              "      <th>Type</th>\n",
              "      <th>Price</th>\n",
              "      <th>Content Rating</th>\n",
              "      <th>Genres</th>\n",
              "      <th>Last Updated</th>\n",
              "      <th>Current Ver</th>\n",
              "      <th>Android Ver</th>\n",
              "    </tr>\n",
              "  </thead>\n",
              "  <tbody>\n",
              "    <tr>\n",
              "      <th>9148</th>\n",
              "      <td>Command &amp; Conquer: Rivals</td>\n",
              "      <td>FAMILY</td>\n",
              "      <td>NaN</td>\n",
              "      <td>0</td>\n",
              "      <td>Varies with device</td>\n",
              "      <td>0</td>\n",
              "      <td>NaN</td>\n",
              "      <td>0</td>\n",
              "      <td>Everyone 10+</td>\n",
              "      <td>Strategy</td>\n",
              "      <td>June 28, 2018</td>\n",
              "      <td>Varies with device</td>\n",
              "      <td>Varies with device</td>\n",
              "    </tr>\n",
              "  </tbody>\n",
              "</table>\n",
              "</div>"
            ],
            "text/plain": [
              "                            App  ...         Android Ver\n",
              "9148  Command & Conquer: Rivals  ...  Varies with device\n",
              "\n",
              "[1 rows x 13 columns]"
            ]
          },
          "metadata": {
            "tags": []
          },
          "execution_count": 9
        }
      ]
    },
    {
      "cell_type": "code",
      "metadata": {
        "id": "aIeUiSA_04Sn"
      },
      "source": [
        "#After cross-checking in the Goople playstore ,we have identified the app to be of Type='Free'.\n",
        "PS_df['Type'].fillna(\"Free\", inplace = True)"
      ],
      "execution_count": 10,
      "outputs": []
    },
    {
      "cell_type": "code",
      "metadata": {
        "colab": {
          "base_uri": "https://localhost:8080/"
        },
        "id": "n9HccGZD2Dpk",
        "outputId": "202abc4a-5659-4213-b1dd-29ecb198cfa5"
      },
      "source": [
        "#identifying the app with Content Rating NaN\n",
        "print(PS_df[PS_df['Content Rating'].isnull()])\n",
        "#The value of category column is missing and due to this the values of the other columns are being replaced with the values from previous columns in this row.\n",
        "set(list(PS_df['Category']))"
      ],
      "execution_count": 11,
      "outputs": [
        {
          "output_type": "stream",
          "text": [
            "                                           App Category  ...  Current Ver Android Ver\n",
            "10472  Life Made WI-Fi Touchscreen Photo Frame      1.9  ...   4.0 and up         NaN\n",
            "\n",
            "[1 rows x 13 columns]\n"
          ],
          "name": "stdout"
        },
        {
          "output_type": "execute_result",
          "data": {
            "text/plain": [
              "{'1.9',\n",
              " 'ART_AND_DESIGN',\n",
              " 'AUTO_AND_VEHICLES',\n",
              " 'BEAUTY',\n",
              " 'BOOKS_AND_REFERENCE',\n",
              " 'BUSINESS',\n",
              " 'COMICS',\n",
              " 'COMMUNICATION',\n",
              " 'DATING',\n",
              " 'EDUCATION',\n",
              " 'ENTERTAINMENT',\n",
              " 'EVENTS',\n",
              " 'FAMILY',\n",
              " 'FINANCE',\n",
              " 'FOOD_AND_DRINK',\n",
              " 'GAME',\n",
              " 'HEALTH_AND_FITNESS',\n",
              " 'HOUSE_AND_HOME',\n",
              " 'LIBRARIES_AND_DEMO',\n",
              " 'LIFESTYLE',\n",
              " 'MAPS_AND_NAVIGATION',\n",
              " 'MEDICAL',\n",
              " 'NEWS_AND_MAGAZINES',\n",
              " 'PARENTING',\n",
              " 'PERSONALIZATION',\n",
              " 'PHOTOGRAPHY',\n",
              " 'PRODUCTIVITY',\n",
              " 'SHOPPING',\n",
              " 'SOCIAL',\n",
              " 'SPORTS',\n",
              " 'TOOLS',\n",
              " 'TRAVEL_AND_LOCAL',\n",
              " 'VIDEO_PLAYERS',\n",
              " 'WEATHER'}"
            ]
          },
          "metadata": {
            "tags": []
          },
          "execution_count": 11
        }
      ]
    },
    {
      "cell_type": "code",
      "metadata": {
        "id": "KVuh_7f09Gff"
      },
      "source": [
        "#dropping the row for which Content rating has NaN value\n",
        "PS_df.drop(PS_df[PS_df['Content Rating'].isnull()].index,inplace =True)"
      ],
      "execution_count": 12,
      "outputs": []
    },
    {
      "cell_type": "code",
      "metadata": {
        "id": "aE09H3wxGHot",
        "colab": {
          "base_uri": "https://localhost:8080/"
        },
        "outputId": "581f2397-fe20-4cd6-e6fe-33aba832e1d3"
      },
      "source": [
        "#taking mode value of the rating column and replace NaN values in it with the mode value\n",
        "mode_PS_df_Rating = PS_df['Rating'].mode()\n",
        "print(mode_PS_df_Rating)"
      ],
      "execution_count": 13,
      "outputs": [
        {
          "output_type": "stream",
          "text": [
            "0    4.4\n",
            "dtype: float64\n"
          ],
          "name": "stdout"
        }
      ]
    },
    {
      "cell_type": "code",
      "metadata": {
        "id": "6T0DIjdhT-Bw"
      },
      "source": [
        "#Replacing the NaN values of th \"Rating\" with the mode value\n",
        "#PS_df['Rating'].fillna(PS_df['Rating'].mode(), inplace = True)\n",
        "PS_df['Rating'].fillna(value=mode_PS_df_Rating[0], inplace = True)"
      ],
      "execution_count": 14,
      "outputs": []
    },
    {
      "cell_type": "code",
      "metadata": {
        "id": "mvJ9dW1yO1jU"
      },
      "source": [
        "#DROPPING THE COLUMN OF 'ANDROID VER AND CURRENT VER'\n",
        "PS_df.drop(['Android Ver', 'Current Ver'] ,  axis=1 , inplace=True)"
      ],
      "execution_count": 15,
      "outputs": []
    },
    {
      "cell_type": "code",
      "metadata": {
        "id": "-YijwRlv_Igo",
        "colab": {
          "base_uri": "https://localhost:8080/"
        },
        "outputId": "c17325a2-f097-4794-8df5-703f8cd5d8e2"
      },
      "source": [
        "#check if the playstore dataframe has any null values to ensure that all modifications are in place\n",
        "PS_df.isnull().sum()\n"
      ],
      "execution_count": 16,
      "outputs": [
        {
          "output_type": "execute_result",
          "data": {
            "text/plain": [
              "App               0\n",
              "Category          0\n",
              "Rating            0\n",
              "Reviews           0\n",
              "Size              0\n",
              "Installs          0\n",
              "Type              0\n",
              "Price             0\n",
              "Content Rating    0\n",
              "Genres            0\n",
              "Last Updated      0\n",
              "dtype: int64"
            ]
          },
          "metadata": {
            "tags": []
          },
          "execution_count": 16
        }
      ]
    },
    {
      "cell_type": "markdown",
      "metadata": {
        "id": "wOLrAAC1FaBf"
      },
      "source": [
        "\n",
        "Firstly, we need to convert the data types with their respective actual type\n",
        "Reviews, Size, Installs, & Price should have an integer or float datatype, But here we can see of object type, So let's convert them to their respective type."
      ]
    },
    {
      "cell_type": "code",
      "metadata": {
        "id": "GqY-Ls0GFgBW"
      },
      "source": [
        "#Data cleaning for \"Reviews column\"\n",
        "PS_df['Reviews'] = PS_df['Reviews'].astype(float)\n",
        "\n"
      ],
      "execution_count": 17,
      "outputs": []
    },
    {
      "cell_type": "code",
      "metadata": {
        "id": "J-XEJG_4_Wfu"
      },
      "source": [
        "# Data cleaning for \"Size\" column\n",
        "PS_df['Size'] = PS_df.Size.apply(lambda x: x.strip('+'))\n",
        "PS_df['Size'] = PS_df.Size.apply(lambda x: x.replace(',', ''))\n",
        "PS_df['Size'] = PS_df.Size.apply(lambda x: x.replace('M', 'e+6'))\n",
        "PS_df['Size'] = PS_df.Size.apply(lambda x: x.replace('k', 'e+3'))\n",
        "PS_df['Size'] = PS_df.Size.replace('Varies with device', np.NaN)\n"
      ],
      "execution_count": 19,
      "outputs": []
    },
    {
      "cell_type": "code",
      "metadata": {
        "colab": {
          "base_uri": "https://localhost:8080/"
        },
        "id": "3i7Tw32BRSEo",
        "outputId": "abe04698-1109-4502-a033-a3b58b647037"
      },
      "source": [
        "PS_df['Size'] = PS_df['Size'].apply(pd.to_numeric)\n",
        "PS_df.info()"
      ],
      "execution_count": 20,
      "outputs": [
        {
          "output_type": "stream",
          "text": [
            "<class 'pandas.core.frame.DataFrame'>\n",
            "Int64Index: 10357 entries, 0 to 10840\n",
            "Data columns (total 11 columns):\n",
            " #   Column          Non-Null Count  Dtype  \n",
            "---  ------          --------------  -----  \n",
            " 0   App             10357 non-null  object \n",
            " 1   Category        10357 non-null  object \n",
            " 2   Rating          10357 non-null  float64\n",
            " 3   Reviews         10357 non-null  float64\n",
            " 4   Size            8831 non-null   float64\n",
            " 5   Installs        10357 non-null  object \n",
            " 6   Type            10357 non-null  object \n",
            " 7   Price           10357 non-null  object \n",
            " 8   Content Rating  10357 non-null  object \n",
            " 9   Genres          10357 non-null  object \n",
            " 10  Last Updated    10357 non-null  object \n",
            "dtypes: float64(3), object(8)\n",
            "memory usage: 971.0+ KB\n"
          ],
          "name": "stdout"
        }
      ]
    },
    {
      "cell_type": "code",
      "metadata": {
        "id": "CzAAbIU0QQxD"
      },
      "source": [
        "#drops null values in the size column\n",
        "PS_df.dropna(subset=['Size'], inplace=True)"
      ],
      "execution_count": 21,
      "outputs": []
    },
    {
      "cell_type": "code",
      "metadata": {
        "id": "tie8TZHFE3on"
      },
      "source": [
        "# Data cleaning for \"Installs\" column\n",
        "PS_df['Installs']=PS_df['Installs'].apply(lambda x: x.strip('+'))\n",
        "PS_df['Installs']=PS_df['Installs'].apply(lambda x: x.replace(',',''))\n",
        "PS_df['Installs']=PS_df['Installs'].astype(int)\n"
      ],
      "execution_count": 22,
      "outputs": []
    },
    {
      "cell_type": "code",
      "metadata": {
        "id": "LJyNDd6oE7Oy"
      },
      "source": [
        "#Data cleaning for \"Price\" column\n",
        "PS_df['Price']=PS_df['Price'].apply(lambda x: x.replace('$',''))\n",
        "PS_df['Price']=PS_df['Price'].astype(float)\n",
        "\n"
      ],
      "execution_count": 23,
      "outputs": []
    },
    {
      "cell_type": "code",
      "metadata": {
        "id": "F_hOiVJIMrXn"
      },
      "source": [
        "#changing datatype of last updated column\n",
        "PS_df['Last Updated']=PS_df['Last Updated'].apply(lambda x : datetime.strptime(x,\"%B %d, %Y\"))\n",
        "PS_df['year']=PS_df['Last Updated'].apply(lambda x :x.year)"
      ],
      "execution_count": 24,
      "outputs": []
    },
    {
      "cell_type": "code",
      "metadata": {
        "colab": {
          "base_uri": "https://localhost:8080/"
        },
        "id": "phNEc0inSKY7",
        "outputId": "5b4a8d63-f172-4aac-d005-d76b3bb7b27c"
      },
      "source": [
        "#checking the datatypes of each column\n",
        "PS_df.info()"
      ],
      "execution_count": 25,
      "outputs": [
        {
          "output_type": "stream",
          "text": [
            "<class 'pandas.core.frame.DataFrame'>\n",
            "Int64Index: 8831 entries, 0 to 10840\n",
            "Data columns (total 12 columns):\n",
            " #   Column          Non-Null Count  Dtype         \n",
            "---  ------          --------------  -----         \n",
            " 0   App             8831 non-null   object        \n",
            " 1   Category        8831 non-null   object        \n",
            " 2   Rating          8831 non-null   float64       \n",
            " 3   Reviews         8831 non-null   float64       \n",
            " 4   Size            8831 non-null   float64       \n",
            " 5   Installs        8831 non-null   int64         \n",
            " 6   Type            8831 non-null   object        \n",
            " 7   Price           8831 non-null   float64       \n",
            " 8   Content Rating  8831 non-null   object        \n",
            " 9   Genres          8831 non-null   object        \n",
            " 10  Last Updated    8831 non-null   datetime64[ns]\n",
            " 11  year            8831 non-null   int64         \n",
            "dtypes: datetime64[ns](1), float64(4), int64(2), object(5)\n",
            "memory usage: 896.9+ KB\n"
          ],
          "name": "stdout"
        }
      ]
    },
    {
      "cell_type": "markdown",
      "metadata": {
        "id": "IWu3Q3c7QvRA"
      },
      "source": [
        "## ***User review data***\n"
      ]
    },
    {
      "cell_type": "code",
      "metadata": {
        "id": "nGEpWiUyIF6B",
        "colab": {
          "base_uri": "https://localhost:8080/",
          "height": 204
        },
        "outputId": "3a838e63-471f-41f3-b338-dd65c88e39ba"
      },
      "source": [
        "UR_df.head()"
      ],
      "execution_count": 26,
      "outputs": [
        {
          "output_type": "execute_result",
          "data": {
            "text/html": [
              "<div>\n",
              "<style scoped>\n",
              "    .dataframe tbody tr th:only-of-type {\n",
              "        vertical-align: middle;\n",
              "    }\n",
              "\n",
              "    .dataframe tbody tr th {\n",
              "        vertical-align: top;\n",
              "    }\n",
              "\n",
              "    .dataframe thead th {\n",
              "        text-align: right;\n",
              "    }\n",
              "</style>\n",
              "<table border=\"1\" class=\"dataframe\">\n",
              "  <thead>\n",
              "    <tr style=\"text-align: right;\">\n",
              "      <th></th>\n",
              "      <th>App</th>\n",
              "      <th>Translated_Review</th>\n",
              "      <th>Sentiment</th>\n",
              "      <th>Sentiment_Polarity</th>\n",
              "      <th>Sentiment_Subjectivity</th>\n",
              "    </tr>\n",
              "  </thead>\n",
              "  <tbody>\n",
              "    <tr>\n",
              "      <th>0</th>\n",
              "      <td>10 Best Foods for You</td>\n",
              "      <td>I like eat delicious food. That's I'm cooking ...</td>\n",
              "      <td>Positive</td>\n",
              "      <td>1.00</td>\n",
              "      <td>0.533333</td>\n",
              "    </tr>\n",
              "    <tr>\n",
              "      <th>1</th>\n",
              "      <td>10 Best Foods for You</td>\n",
              "      <td>This help eating healthy exercise regular basis</td>\n",
              "      <td>Positive</td>\n",
              "      <td>0.25</td>\n",
              "      <td>0.288462</td>\n",
              "    </tr>\n",
              "    <tr>\n",
              "      <th>2</th>\n",
              "      <td>10 Best Foods for You</td>\n",
              "      <td>NaN</td>\n",
              "      <td>NaN</td>\n",
              "      <td>NaN</td>\n",
              "      <td>NaN</td>\n",
              "    </tr>\n",
              "    <tr>\n",
              "      <th>3</th>\n",
              "      <td>10 Best Foods for You</td>\n",
              "      <td>Works great especially going grocery store</td>\n",
              "      <td>Positive</td>\n",
              "      <td>0.40</td>\n",
              "      <td>0.875000</td>\n",
              "    </tr>\n",
              "    <tr>\n",
              "      <th>4</th>\n",
              "      <td>10 Best Foods for You</td>\n",
              "      <td>Best idea us</td>\n",
              "      <td>Positive</td>\n",
              "      <td>1.00</td>\n",
              "      <td>0.300000</td>\n",
              "    </tr>\n",
              "  </tbody>\n",
              "</table>\n",
              "</div>"
            ],
            "text/plain": [
              "                     App  ... Sentiment_Subjectivity\n",
              "0  10 Best Foods for You  ...               0.533333\n",
              "1  10 Best Foods for You  ...               0.288462\n",
              "2  10 Best Foods for You  ...                    NaN\n",
              "3  10 Best Foods for You  ...               0.875000\n",
              "4  10 Best Foods for You  ...               0.300000\n",
              "\n",
              "[5 rows x 5 columns]"
            ]
          },
          "metadata": {
            "tags": []
          },
          "execution_count": 26
        }
      ]
    },
    {
      "cell_type": "code",
      "metadata": {
        "colab": {
          "base_uri": "https://localhost:8080/"
        },
        "id": "ZPPCg5OifIeV",
        "outputId": "67b55f31-11fb-474f-fe25-04141fca50d9"
      },
      "source": [
        "UR_df.info()"
      ],
      "execution_count": 27,
      "outputs": [
        {
          "output_type": "stream",
          "text": [
            "<class 'pandas.core.frame.DataFrame'>\n",
            "RangeIndex: 64295 entries, 0 to 64294\n",
            "Data columns (total 5 columns):\n",
            " #   Column                  Non-Null Count  Dtype  \n",
            "---  ------                  --------------  -----  \n",
            " 0   App                     64295 non-null  object \n",
            " 1   Translated_Review       37427 non-null  object \n",
            " 2   Sentiment               37432 non-null  object \n",
            " 3   Sentiment_Polarity      37432 non-null  float64\n",
            " 4   Sentiment_Subjectivity  37432 non-null  float64\n",
            "dtypes: float64(2), object(3)\n",
            "memory usage: 2.5+ MB\n"
          ],
          "name": "stdout"
        }
      ]
    },
    {
      "cell_type": "code",
      "metadata": {
        "id": "f-KcyvL0Rfcg"
      },
      "source": [
        "#Eliminating observations with the same translated_review\n",
        "UR_df = UR_df.drop_duplicates(['Translated_Review'])"
      ],
      "execution_count": 28,
      "outputs": []
    },
    {
      "cell_type": "code",
      "metadata": {
        "id": "LAczyBNWIFNP",
        "colab": {
          "base_uri": "https://localhost:8080/"
        },
        "outputId": "1b9bdd46-7783-4a53-e8a5-83b3b2d93196"
      },
      "source": [
        "#checking for null values\n",
        "UR_df.info()"
      ],
      "execution_count": 29,
      "outputs": [
        {
          "output_type": "stream",
          "text": [
            "<class 'pandas.core.frame.DataFrame'>\n",
            "Int64Index: 27995 entries, 0 to 64230\n",
            "Data columns (total 5 columns):\n",
            " #   Column                  Non-Null Count  Dtype  \n",
            "---  ------                  --------------  -----  \n",
            " 0   App                     27995 non-null  object \n",
            " 1   Translated_Review       27994 non-null  object \n",
            " 2   Sentiment               27994 non-null  object \n",
            " 3   Sentiment_Polarity      27994 non-null  float64\n",
            " 4   Sentiment_Subjectivity  27994 non-null  float64\n",
            "dtypes: float64(2), object(3)\n",
            "memory usage: 1.3+ MB\n"
          ],
          "name": "stdout"
        }
      ]
    },
    {
      "cell_type": "code",
      "metadata": {
        "colab": {
          "base_uri": "https://localhost:8080/"
        },
        "id": "TusWoM0OSHSn",
        "outputId": "5de63115-eae4-4f85-9d75-679af3220aca"
      },
      "source": [
        "#Eliminating the existing null value(s) from the dataset\n",
        "UR_df.dropna(subset = ['Translated_Review'], inplace=True)\n",
        "\n",
        "UR_df.info()\n"
      ],
      "execution_count": 30,
      "outputs": [
        {
          "output_type": "stream",
          "text": [
            "<class 'pandas.core.frame.DataFrame'>\n",
            "Int64Index: 27994 entries, 0 to 64230\n",
            "Data columns (total 5 columns):\n",
            " #   Column                  Non-Null Count  Dtype  \n",
            "---  ------                  --------------  -----  \n",
            " 0   App                     27994 non-null  object \n",
            " 1   Translated_Review       27994 non-null  object \n",
            " 2   Sentiment               27994 non-null  object \n",
            " 3   Sentiment_Polarity      27994 non-null  float64\n",
            " 4   Sentiment_Subjectivity  27994 non-null  float64\n",
            "dtypes: float64(2), object(3)\n",
            "memory usage: 1.3+ MB\n"
          ],
          "name": "stdout"
        }
      ]
    },
    {
      "cell_type": "code",
      "metadata": {
        "id": "bb3ZT3geFA17"
      },
      "source": [
        "#dropping the columns named sentiment polarity and sunjectivity\n",
        "UR_df.drop(['Sentiment_Polarity', 'Sentiment_Subjectivity'],axis=1,inplace=True)\n"
      ],
      "execution_count": 31,
      "outputs": []
    },
    {
      "cell_type": "code",
      "metadata": {
        "colab": {
          "base_uri": "https://localhost:8080/",
          "height": 204
        },
        "id": "hptdFM6KZ1U_",
        "outputId": "7b0fc7ac-f2b5-4d29-8988-eb5911d5629c"
      },
      "source": [
        "UR_df.head()"
      ],
      "execution_count": 32,
      "outputs": [
        {
          "output_type": "execute_result",
          "data": {
            "text/html": [
              "<div>\n",
              "<style scoped>\n",
              "    .dataframe tbody tr th:only-of-type {\n",
              "        vertical-align: middle;\n",
              "    }\n",
              "\n",
              "    .dataframe tbody tr th {\n",
              "        vertical-align: top;\n",
              "    }\n",
              "\n",
              "    .dataframe thead th {\n",
              "        text-align: right;\n",
              "    }\n",
              "</style>\n",
              "<table border=\"1\" class=\"dataframe\">\n",
              "  <thead>\n",
              "    <tr style=\"text-align: right;\">\n",
              "      <th></th>\n",
              "      <th>App</th>\n",
              "      <th>Translated_Review</th>\n",
              "      <th>Sentiment</th>\n",
              "    </tr>\n",
              "  </thead>\n",
              "  <tbody>\n",
              "    <tr>\n",
              "      <th>0</th>\n",
              "      <td>10 Best Foods for You</td>\n",
              "      <td>I like eat delicious food. That's I'm cooking ...</td>\n",
              "      <td>Positive</td>\n",
              "    </tr>\n",
              "    <tr>\n",
              "      <th>1</th>\n",
              "      <td>10 Best Foods for You</td>\n",
              "      <td>This help eating healthy exercise regular basis</td>\n",
              "      <td>Positive</td>\n",
              "    </tr>\n",
              "    <tr>\n",
              "      <th>3</th>\n",
              "      <td>10 Best Foods for You</td>\n",
              "      <td>Works great especially going grocery store</td>\n",
              "      <td>Positive</td>\n",
              "    </tr>\n",
              "    <tr>\n",
              "      <th>4</th>\n",
              "      <td>10 Best Foods for You</td>\n",
              "      <td>Best idea us</td>\n",
              "      <td>Positive</td>\n",
              "    </tr>\n",
              "    <tr>\n",
              "      <th>5</th>\n",
              "      <td>10 Best Foods for You</td>\n",
              "      <td>Best way</td>\n",
              "      <td>Positive</td>\n",
              "    </tr>\n",
              "  </tbody>\n",
              "</table>\n",
              "</div>"
            ],
            "text/plain": [
              "                     App  ... Sentiment\n",
              "0  10 Best Foods for You  ...  Positive\n",
              "1  10 Best Foods for You  ...  Positive\n",
              "3  10 Best Foods for You  ...  Positive\n",
              "4  10 Best Foods for You  ...  Positive\n",
              "5  10 Best Foods for You  ...  Positive\n",
              "\n",
              "[5 rows x 3 columns]"
            ]
          },
          "metadata": {
            "tags": []
          },
          "execution_count": 32
        }
      ]
    },
    {
      "cell_type": "markdown",
      "metadata": {
        "id": "n9I1lxDRaMZg"
      },
      "source": [
        "# ***Analysis and Visualization of data***"
      ]
    },
    {
      "cell_type": "code",
      "metadata": {
        "id": "TogyMjD7ez_9"
      },
      "source": [
        "#please mention the question numbers of questions you'd like to work on(select 2 each)\n",
        "# Manish -1,\n",
        "# Adarsh -\n",
        "# Ashu -3,4,5\n",
        "# Radhika-6,8\n"
      ],
      "execution_count": 33,
      "outputs": []
    },
    {
      "cell_type": "code",
      "metadata": {
        "id": "auD1UIOMWM-e"
      },
      "source": [
        "#category"
      ],
      "execution_count": null,
      "outputs": []
    },
    {
      "cell_type": "markdown",
      "metadata": {
        "id": "l83moMhjkyMO"
      },
      "source": [
        "\n",
        "\n",
        "1.   Top categories which contains the highest number of apps \n",
        "2.   Rating vs Category\n",
        "1.   No:of free vs paid apps\n",
        "3.   Rating of free vs paid apps\n",
        "4.   Content rating vs No: of apps\n",
        "5.   Rating vs installs\n",
        "6.   Size vs Installs,last updated,category\n",
        "7.   Top rated apps in each category-Their versions,last updated,android   version,installs,size(i think version does not play a viltal role(ASHU))\n",
        "8.   Worst rated apps -Their versions,last updated,android version,installs,size\n",
        "9.   Rating vs sentiment of review comments \n",
        "10.  Top 10 Genres of apps in Playstore\n",
        "1.   List item\n",
        "2.   List item\n",
        "\n",
        "\n",
        "\n",
        "\n",
        "\n",
        "\n",
        "\n",
        "\n",
        "\n"
      ]
    },
    {
      "cell_type": "code",
      "metadata": {
        "colab": {
          "base_uri": "https://localhost:8080/",
          "height": 504
        },
        "id": "hHgYBi0j79U9",
        "outputId": "783f03b2-5ed5-407c-d30b-b260ea1e5dbc"
      },
      "source": [
        "#Correlation heatmap\n",
        "plt.figure(figsize = (15,8))\n",
        "sns.heatmap(PS_df.corr(),linewidth=0.5,cmap='viridis' )"
      ],
      "execution_count": 38,
      "outputs": [
        {
          "output_type": "execute_result",
          "data": {
            "text/plain": [
              "<matplotlib.axes._subplots.AxesSubplot at 0x7f06b400f850>"
            ]
          },
          "metadata": {
            "tags": []
          },
          "execution_count": 38
        },
        {
          "output_type": "display_data",
          "data": {
            "image/png": "[encoded data removed]",
            "text/plain": [
              "<Figure size 1080x576 with 2 Axes>"
            ]
          },
          "metadata": {
            "tags": [],
            "needs_background": "light"
          }
        }
      ]
    },
    {
      "cell_type": "code",
      "metadata": {
        "id": "3oAyJaPja5Ud"
      },
      "source": [
        "#Question1\n"
      ],
      "execution_count": null,
      "outputs": []
    },
    {
      "cell_type": "code",
      "metadata": {
        "id": "9ZJGcmXjWJzt"
      },
      "source": [
        "y=PS_df['Category'].value_counts().index\n",
        "x=PS_df['Category'].value_counts()\n",
        "xsis=[]\n",
        "ysis=[]\n",
        "for i in range(len(x)):\n",
        "  xsis.append(x[i])\n",
        "  ysis.append(y[i])\n",
        "  "
      ],
      "execution_count": 39,
      "outputs": []
    },
    {
      "cell_type": "code",
      "metadata": {
        "colab": {
          "base_uri": "https://localhost:8080/",
          "height": 794
        },
        "id": "16Q74ZH9WZya",
        "outputId": "ed4045bb-f18b-46dd-e278-775f782c3519"
      },
      "source": [
        "plt.figure(figsize=(18,13))\n",
        "plt.xlabel('Count')\n",
        "plt.ylabel('Category')\n",
        "\n",
        "graph=sns.barplot(x=xsis,y=ysis,palette=\"husl\")\n",
        "graph.set_title(\"Top category on Google playstore\",fontsize=25);"
      ],
      "execution_count": 40,
      "outputs": [
        {
          "output_type": "display_data",
          "data": {
            "image/png": "[encoded data removed]",
            "text/plain": [
              "<Figure size 1296x936 with 1 Axes>"
            ]
          },
          "metadata": {
            "tags": [],
            "needs_background": "light"
          }
        }
      ]
    },
    {
      "cell_type": "markdown",
      "metadata": {
        "id": "Dto5k7hBgNLx"
      },
      "source": [
        "# Rating vs installs\n",
        "## Question 2"
      ]
    },
    {
      "cell_type": "code",
      "metadata": {
        "colab": {
          "base_uri": "https://localhost:8080/",
          "height": 514
        },
        "id": "pvD-yPOFgeT3",
        "outputId": "90a952a1-855f-4b45-c4f6-b54c0bb92f94"
      },
      "source": [
        "plt.figure(figsize=(10,8))\n",
        "Installs = PS_df[~PS_df['Rating'].isna()]['Rating']\n",
        "plt.hist(Installs.values, color='red')\n",
        "plt.xlabel('Rating')\n",
        "plt.ylabel('Installs')\n"
      ],
      "execution_count": 41,
      "outputs": [
        {
          "output_type": "execute_result",
          "data": {
            "text/plain": [
              "Text(0, 0.5, 'Installs')"
            ]
          },
          "metadata": {
            "tags": []
          },
          "execution_count": 41
        },
        {
          "output_type": "display_data",
          "data": {
            "image/png": "[encoded data removed]",
            "text/plain": [
              "<Figure size 720x576 with 1 Axes>"
            ]
          },
          "metadata": {
            "tags": [],
            "needs_background": "light"
          }
        }
      ]
    },
    {
      "cell_type": "markdown",
      "metadata": {
        "id": "9Oyz0N4kjQDN"
      },
      "source": [
        "# The above figure show that the high rated apps getting massive amount of installions whe compared with low rated apps "
      ]
    },
    {
      "cell_type": "markdown",
      "metadata": {
        "id": "s6lZqY5mj46_"
      },
      "source": [
        "# 3.   Number of free vs paid apps\n",
        "## question 3"
      ]
    },
    {
      "cell_type": "code",
      "metadata": {
        "id": "6lNjkrCGnLlp"
      },
      "source": [
        "x2 = PS_df['Type'].value_counts().index\n",
        "y2 = PS_df['Type'].value_counts()\n",
        "\n",
        "x2sis = []\n",
        "y2sis = []\n",
        "for Type in range(len(x2)):\n",
        "    x2sis.append(x2[Type])\n",
        "    y2sis.append(y2[Type])\n"
      ],
      "execution_count": 42,
      "outputs": []
    },
    {
      "cell_type": "code",
      "metadata": {
        "colab": {
          "base_uri": "https://localhost:8080/",
          "height": 518
        },
        "id": "Nwi0ut4akgr7",
        "outputId": "da3036a7-0576-4144-fd8c-6d1f86ca9f5b"
      },
      "source": [
        "plt.figure(figsize=(10,8))\n",
        "plt.bar(x2sis,y2sis );\n",
        "plt.title('Number of Free vs Paid apps',size=20)\n",
        "plt.ylabel('Count of Apps');\n",
        "plt.xlabel('Type');"
      ],
      "execution_count": 43,
      "outputs": [
        {
          "output_type": "display_data",
          "data": {
            "image/png": "[encoded data removed]",
            "text/plain": [
              "<Figure size 720x576 with 1 Axes>"
            ]
          },
          "metadata": {
            "tags": [],
            "needs_background": "light"
          }
        }
      ]
    },
    {
      "cell_type": "markdown",
      "metadata": {
        "id": "SxNGuJ6-r26H"
      },
      "source": [
        "# The number of free Apps are very high when compared to Paid Apps. The crowd is often tends to use Free Apps when compared to Paid Apps"
      ]
    },
    {
      "cell_type": "code",
      "metadata": {
        "id": "DcxE_2jmhOtd"
      },
      "source": [
        "x2 = PS_df['Content Rating'].value_counts().index\n",
        "y2 = PS_df['Content Rating'].value_counts()\n",
        "\n",
        "x2sis = []\n",
        "y2sis = []\n",
        "for Content_Rating in range(len(x2)):\n",
        "    x2sis.append(x2[Content_Rating])\n",
        "    y2sis.append(y2[Content_Rating])\n"
      ],
      "execution_count": 44,
      "outputs": []
    },
    {
      "cell_type": "code",
      "metadata": {
        "colab": {
          "base_uri": "https://localhost:8080/",
          "height": 513
        },
        "id": "Qt7FMTn-qweg",
        "outputId": "b523052e-4813-417e-8261-b75da71d6808"
      },
      "source": [
        "plt.figure(figsize=(10,8))\n",
        "plt.bar(x2sis,y2sis);\n",
        "plt.title('Content Rating');\n",
        "plt.ylabel('Apps(Count)');\n",
        "plt.xlabel('Content Rating');"
      ],
      "execution_count": null,
      "outputs": [
        {
          "output_type": "display_data",
          "data": {
            "image/png": "[encoded data removed]",
            "text/plain": [
              "<Figure size 720x576 with 1 Axes>"
            ]
          },
          "metadata": {
            "tags": [],
            "needs_background": "light"
          }
        }
      ]
    },
    {
      "cell_type": "markdown",
      "metadata": {
        "id": "g2LuJNj9sqlM"
      },
      "source": [
        "# In previos fig Rating category we already observed that the least rated Apps has low installation as here i the above fig we can see that \"Adults only 18+\" Content Rating Apps also has low amount of instalation i.e. almost none whereas the Content Rating \"Everyone\" has high no. of installation followed to the Content Rating \"Teen\". and the Content Rating labelled as \"Mature 17+\" and \"Everyone 10+\" has quite equal amount of installations\n"
      ]
    },
    {
      "cell_type": "markdown",
      "metadata": {
        "id": "dGWNrAFmdBM1"
      },
      "source": [
        "# Rating vs Category\n",
        "## Question 2\n"
      ]
    },
    {
      "cell_type": "code",
      "metadata": {
        "colab": {
          "base_uri": "https://localhost:8080/",
          "height": 575
        },
        "id": "a1iJCTwCdHat",
        "outputId": "76fdb36b-1edb-41f0-b844-ccfbff850efa"
      },
      "source": [
        "plt.pie('Category')\n",
        "plt.show()"
      ],
      "execution_count": null,
      "outputs": [
        {
          "output_type": "error",
          "ename": "ValueError",
          "evalue": "ignored",
          "traceback": [
            "\u001b[0;31m---------------------------------------------------------------------------\u001b[0m",
            "\u001b[0;31mValueError\u001b[0m                                Traceback (most recent call last)",
            "\u001b[0;32m<ipython-input-46-c2729030de5e>\u001b[0m in \u001b[0;36m<module>\u001b[0;34m()\u001b[0m\n\u001b[0;32m----> 1\u001b[0;31m \u001b[0mplt\u001b[0m\u001b[0;34m.\u001b[0m\u001b[0mpie\u001b[0m\u001b[0;34m(\u001b[0m\u001b[0;34m'Category'\u001b[0m\u001b[0;34m)\u001b[0m\u001b[0;34m\u001b[0m\u001b[0;34m\u001b[0m\u001b[0m\n\u001b[0m\u001b[1;32m      2\u001b[0m \u001b[0mplt\u001b[0m\u001b[0;34m.\u001b[0m\u001b[0mshow\u001b[0m\u001b[0;34m(\u001b[0m\u001b[0;34m)\u001b[0m\u001b[0;34m\u001b[0m\u001b[0;34m\u001b[0m\u001b[0m\n",
            "\u001b[0;32m/usr/local/lib/python3.7/dist-packages/matplotlib/pyplot.py\u001b[0m in \u001b[0;36mpie\u001b[0;34m(x, explode, labels, colors, autopct, pctdistance, shadow, labeldistance, startangle, radius, counterclock, wedgeprops, textprops, center, frame, rotatelabels, data)\u001b[0m\n\u001b[1;32m   2753\u001b[0m         \u001b[0mwedgeprops\u001b[0m\u001b[0;34m=\u001b[0m\u001b[0mwedgeprops\u001b[0m\u001b[0;34m,\u001b[0m \u001b[0mtextprops\u001b[0m\u001b[0;34m=\u001b[0m\u001b[0mtextprops\u001b[0m\u001b[0;34m,\u001b[0m \u001b[0mcenter\u001b[0m\u001b[0;34m=\u001b[0m\u001b[0mcenter\u001b[0m\u001b[0;34m,\u001b[0m\u001b[0;34m\u001b[0m\u001b[0;34m\u001b[0m\u001b[0m\n\u001b[1;32m   2754\u001b[0m         frame=frame, rotatelabels=rotatelabels, **({\"data\": data} if\n\u001b[0;32m-> 2755\u001b[0;31m         data is not None else {}))\n\u001b[0m\u001b[1;32m   2756\u001b[0m \u001b[0;34m\u001b[0m\u001b[0m\n\u001b[1;32m   2757\u001b[0m \u001b[0;34m\u001b[0m\u001b[0m\n",
            "\u001b[0;32m/usr/local/lib/python3.7/dist-packages/matplotlib/__init__.py\u001b[0m in \u001b[0;36minner\u001b[0;34m(ax, data, *args, **kwargs)\u001b[0m\n\u001b[1;32m   1563\u001b[0m     \u001b[0;32mdef\u001b[0m \u001b[0minner\u001b[0m\u001b[0;34m(\u001b[0m\u001b[0max\u001b[0m\u001b[0;34m,\u001b[0m \u001b[0;34m*\u001b[0m\u001b[0margs\u001b[0m\u001b[0;34m,\u001b[0m \u001b[0mdata\u001b[0m\u001b[0;34m=\u001b[0m\u001b[0;32mNone\u001b[0m\u001b[0;34m,\u001b[0m \u001b[0;34m**\u001b[0m\u001b[0mkwargs\u001b[0m\u001b[0;34m)\u001b[0m\u001b[0;34m:\u001b[0m\u001b[0;34m\u001b[0m\u001b[0;34m\u001b[0m\u001b[0m\n\u001b[1;32m   1564\u001b[0m         \u001b[0;32mif\u001b[0m \u001b[0mdata\u001b[0m \u001b[0;32mis\u001b[0m \u001b[0;32mNone\u001b[0m\u001b[0;34m:\u001b[0m\u001b[0;34m\u001b[0m\u001b[0;34m\u001b[0m\u001b[0m\n\u001b[0;32m-> 1565\u001b[0;31m             \u001b[0;32mreturn\u001b[0m \u001b[0mfunc\u001b[0m\u001b[0;34m(\u001b[0m\u001b[0max\u001b[0m\u001b[0;34m,\u001b[0m \u001b[0;34m*\u001b[0m\u001b[0mmap\u001b[0m\u001b[0;34m(\u001b[0m\u001b[0msanitize_sequence\u001b[0m\u001b[0;34m,\u001b[0m \u001b[0margs\u001b[0m\u001b[0;34m)\u001b[0m\u001b[0;34m,\u001b[0m \u001b[0;34m**\u001b[0m\u001b[0mkwargs\u001b[0m\u001b[0;34m)\u001b[0m\u001b[0;34m\u001b[0m\u001b[0;34m\u001b[0m\u001b[0m\n\u001b[0m\u001b[1;32m   1566\u001b[0m \u001b[0;34m\u001b[0m\u001b[0m\n\u001b[1;32m   1567\u001b[0m         \u001b[0mbound\u001b[0m \u001b[0;34m=\u001b[0m \u001b[0mnew_sig\u001b[0m\u001b[0;34m.\u001b[0m\u001b[0mbind\u001b[0m\u001b[0;34m(\u001b[0m\u001b[0max\u001b[0m\u001b[0;34m,\u001b[0m \u001b[0;34m*\u001b[0m\u001b[0margs\u001b[0m\u001b[0;34m,\u001b[0m \u001b[0;34m**\u001b[0m\u001b[0mkwargs\u001b[0m\u001b[0;34m)\u001b[0m\u001b[0;34m\u001b[0m\u001b[0;34m\u001b[0m\u001b[0m\n",
            "\u001b[0;32m/usr/local/lib/python3.7/dist-packages/matplotlib/axes/_axes.py\u001b[0m in \u001b[0;36mpie\u001b[0;34m(self, x, explode, labels, colors, autopct, pctdistance, shadow, labeldistance, startangle, radius, counterclock, wedgeprops, textprops, center, frame, rotatelabels)\u001b[0m\n\u001b[1;32m   2910\u001b[0m         \u001b[0;31m# The use of float32 is \"historical\", but can't be changed without\u001b[0m\u001b[0;34m\u001b[0m\u001b[0;34m\u001b[0m\u001b[0;34m\u001b[0m\u001b[0m\n\u001b[1;32m   2911\u001b[0m         \u001b[0;31m# regenerating the test baselines.\u001b[0m\u001b[0;34m\u001b[0m\u001b[0;34m\u001b[0m\u001b[0;34m\u001b[0m\u001b[0m\n\u001b[0;32m-> 2912\u001b[0;31m         \u001b[0mx\u001b[0m \u001b[0;34m=\u001b[0m \u001b[0mnp\u001b[0m\u001b[0;34m.\u001b[0m\u001b[0masarray\u001b[0m\u001b[0;34m(\u001b[0m\u001b[0mx\u001b[0m\u001b[0;34m,\u001b[0m \u001b[0mnp\u001b[0m\u001b[0;34m.\u001b[0m\u001b[0mfloat32\u001b[0m\u001b[0;34m)\u001b[0m\u001b[0;34m\u001b[0m\u001b[0;34m\u001b[0m\u001b[0m\n\u001b[0m\u001b[1;32m   2913\u001b[0m         \u001b[0;32mif\u001b[0m \u001b[0mx\u001b[0m\u001b[0;34m.\u001b[0m\u001b[0mndim\u001b[0m \u001b[0;34m!=\u001b[0m \u001b[0;36m1\u001b[0m \u001b[0;32mand\u001b[0m \u001b[0mx\u001b[0m\u001b[0;34m.\u001b[0m\u001b[0msqueeze\u001b[0m\u001b[0;34m(\u001b[0m\u001b[0;34m)\u001b[0m\u001b[0;34m.\u001b[0m\u001b[0mndim\u001b[0m \u001b[0;34m<=\u001b[0m \u001b[0;36m1\u001b[0m\u001b[0;34m:\u001b[0m\u001b[0;34m\u001b[0m\u001b[0;34m\u001b[0m\u001b[0m\n\u001b[1;32m   2914\u001b[0m             cbook.warn_deprecated(\n",
            "\u001b[0;32m/usr/local/lib/python3.7/dist-packages/numpy/core/_asarray.py\u001b[0m in \u001b[0;36masarray\u001b[0;34m(a, dtype, order)\u001b[0m\n\u001b[1;32m     81\u001b[0m \u001b[0;34m\u001b[0m\u001b[0m\n\u001b[1;32m     82\u001b[0m     \"\"\"\n\u001b[0;32m---> 83\u001b[0;31m     \u001b[0;32mreturn\u001b[0m \u001b[0marray\u001b[0m\u001b[0;34m(\u001b[0m\u001b[0ma\u001b[0m\u001b[0;34m,\u001b[0m \u001b[0mdtype\u001b[0m\u001b[0;34m,\u001b[0m \u001b[0mcopy\u001b[0m\u001b[0;34m=\u001b[0m\u001b[0;32mFalse\u001b[0m\u001b[0;34m,\u001b[0m \u001b[0morder\u001b[0m\u001b[0;34m=\u001b[0m\u001b[0morder\u001b[0m\u001b[0;34m)\u001b[0m\u001b[0;34m\u001b[0m\u001b[0;34m\u001b[0m\u001b[0m\n\u001b[0m\u001b[1;32m     84\u001b[0m \u001b[0;34m\u001b[0m\u001b[0m\n\u001b[1;32m     85\u001b[0m \u001b[0;34m\u001b[0m\u001b[0m\n",
            "\u001b[0;31mValueError\u001b[0m: could not convert string to float: 'Category'"
          ]
        },
        {
          "output_type": "display_data",
          "data": {
            "image/png": "[encoded data removed]",
            "text/plain": [
              "<Figure size 432x288 with 1 Axes>"
            ]
          },
          "metadata": {
            "tags": [],
            "needs_background": "light"
          }
        }
      ]
    },
    {
      "cell_type": "code",
      "metadata": {
        "id": "reTr6vRegilR"
      },
      "source": [
        "PS_df.head()\n",
        "UR_df.info()"
      ],
      "execution_count": null,
      "outputs": []
    },
    {
      "cell_type": "markdown",
      "metadata": {
        "id": "2nhlVgxG5aoE"
      },
      "source": [
        "##Rating vs sentiment of review comments \n"
      ]
    },
    {
      "cell_type": "code",
      "metadata": {
        "id": "K02aExiJeItZ"
      },
      "source": [
        ""
      ],
      "execution_count": null,
      "outputs": []
    },
    {
      "cell_type": "markdown",
      "metadata": {
        "id": "ZNxUzqO0IqE8"
      },
      "source": [
        "# **Rating distribution of apps**"
      ]
    },
    {
      "cell_type": "code",
      "metadata": {
        "colab": {
          "base_uri": "https://localhost:8080/",
          "height": 603
        },
        "id": "4_VYuJ7zIwiR",
        "outputId": "4fd2708d-e217-461f-bb28-755c27222bd2"
      },
      "source": [
        "#Rating distribution of apps\n",
        "\n",
        "plt.figure(figsize=(10,8))\n",
        "plt.xlabel(\"Rating\")\n",
        "plt.ylabel(\"Frequency\")\n",
        "plt.title('Distribution of Rating',size = 20);\n",
        "sns.set_style('darkgrid')\n",
        "sns.set_context('paper',font_scale=1.8)\n",
        "sns.distplot(PS_df['Rating'],bins=4,color='green')"
      ],
      "execution_count": null,
      "outputs": [
        {
          "output_type": "stream",
          "text": [
            "/usr/local/lib/python3.7/dist-packages/seaborn/distributions.py:2557: FutureWarning: `distplot` is a deprecated function and will be removed in a future version. Please adapt your code to use either `displot` (a figure-level function with similar flexibility) or `histplot` (an axes-level function for histograms).\n",
            "  warnings.warn(msg, FutureWarning)\n"
          ],
          "name": "stderr"
        },
        {
          "output_type": "execute_result",
          "data": {
            "text/plain": [
              "<matplotlib.axes._subplots.AxesSubplot at 0x7f296f9ac910>"
            ]
          },
          "metadata": {
            "tags": []
          },
          "execution_count": 48
        },
        {
          "output_type": "display_data",
          "data": {
            "image/png": "[encoded data removed]",
            "text/plain": [
              "<Figure size 720x576 with 1 Axes>"
            ]
          },
          "metadata": {
            "tags": []
          }
        }
      ]
    },
    {
      "cell_type": "markdown",
      "metadata": {
        "id": "ioLO3RaHJEYn"
      },
      "source": [
        "From the distribution plot,it can be inferred that the most of the apps in Playstore have a rating in the range 4 to 5"
      ]
    },
    {
      "cell_type": "markdown",
      "metadata": {
        "id": "mP9y_Ms_2gr1"
      },
      "source": [
        "# **Top 10 Genres of apps in Playstore**\n",
        "\n",
        "\n",
        "\n"
      ]
    },
    {
      "cell_type": "code",
      "metadata": {
        "colab": {
          "base_uri": "https://localhost:8080/",
          "height": 596
        },
        "id": "LwTY7HM62f84",
        "outputId": "f7b752d8-62a1-438b-bae5-dcb236a457fd"
      },
      "source": [
        "#top 10 genres of apps in playstore\n",
        "genres = PS_df['Genres'].value_counts().head(10)\n",
        "plt.figure(figsize=(15,10))\n",
        "genres.plot(kind='pie',y='GENRES',autopct='%1.1f%%',fontsize=12)\n",
        "plt.legend()\n",
        "plt.title(\"Top ten genres of apps in Playstore\",size=20)\n",
        "plt.show()"
      ],
      "execution_count": 49,
      "outputs": [
        {
          "output_type": "display_data",
          "data": {
            "image/png": "[encoded data removed]",
            "text/plain": [
              "<Figure size 1080x720 with 1 Axes>"
            ]
          },
          "metadata": {
            "tags": []
          }
        }
      ]
    },
    {
      "cell_type": "markdown",
      "metadata": {
        "id": "fPg2gHgDJqxD"
      },
      "source": [
        "Greater number of apps belong to the genres:Tools,Communication and Education."
      ]
    },
    {
      "cell_type": "code",
      "metadata": {
        "id": "9ufv2fXpbPzL",
        "colab": {
          "base_uri": "https://localhost:8080/",
          "height": 623
        },
        "outputId": "3d4b2fc4-c531-4a7c-ca07-55b0077e9bff"
      },
      "source": [
        "#Rating of free vs paid apps\n",
        "\n",
        "plt.figure(figsize=(10,10))\n",
        "sns.boxplot(x='Type',y='Rating',data=PS_df)"
      ],
      "execution_count": 50,
      "outputs": [
        {
          "output_type": "execute_result",
          "data": {
            "text/plain": [
              "<matplotlib.axes._subplots.AxesSubplot at 0x7f06b1dba250>"
            ]
          },
          "metadata": {
            "tags": []
          },
          "execution_count": 50
        },
        {
          "output_type": "display_data",
          "data": {
            "image/png": "[encoded data removed]",
            "text/plain": [
              "<Figure size 720x720 with 1 Axes>"
            ]
          },
          "metadata": {
            "tags": [],
            "needs_background": "light"
          }
        }
      ]
    },
    {
      "cell_type": "markdown",
      "metadata": {
        "id": "EavwYG-rYRo6"
      },
      "source": [
        "From the above whisker plot,it can be understood that paid apps tend to have higher ratings than free apps.This could be due to the availabity of better features in the paid apps as compared to free apps."
      ]
    },
    {
      "cell_type": "code",
      "metadata": {
        "id": "qXX0oNesYPqr"
      },
      "source": [
        "df=(PS_df.groupby(['year','Category'])['Installs'].sum().reset_index()).sort_values('Installs',ascending=False)\n",
        "year_list=list(set(df.year))\n",
        "max_installs=pd.DataFrame()\n",
        "sub_df={}\n",
        "installs_per_year=[]\n",
        "i=0\n",
        "for year_ in year_list:\n",
        "    sub_df.update(dict(df[df['year']==year_].iloc[0,:]))\n",
        "    max_installs=max_installs.append(sub_df,ignore_index=True)\n",
        "    "
      ],
      "execution_count": 51,
      "outputs": []
    },
    {
      "cell_type": "code",
      "metadata": {
        "colab": {
          "base_uri": "https://localhost:8080/",
          "height": 328
        },
        "id": "I_e5xbzjJi3W",
        "outputId": "54ff46a7-62d5-4f53-8702-d13fc53f67c0"
      },
      "source": [
        "max_installs.sort_values('year',ascending=True,inplace=True)\n",
        "max_installs"
      ],
      "execution_count": null,
      "outputs": [
        {
          "output_type": "execute_result",
          "data": {
            "text/html": [
              "<div>\n",
              "<style scoped>\n",
              "    .dataframe tbody tr th:only-of-type {\n",
              "        vertical-align: middle;\n",
              "    }\n",
              "\n",
              "    .dataframe tbody tr th {\n",
              "        vertical-align: top;\n",
              "    }\n",
              "\n",
              "    .dataframe thead th {\n",
              "        text-align: right;\n",
              "    }\n",
              "</style>\n",
              "<table border=\"1\" class=\"dataframe\">\n",
              "  <thead>\n",
              "    <tr style=\"text-align: right;\">\n",
              "      <th></th>\n",
              "      <th>Category</th>\n",
              "      <th>Installs</th>\n",
              "      <th>year</th>\n",
              "    </tr>\n",
              "  </thead>\n",
              "  <tbody>\n",
              "    <tr>\n",
              "      <th>3</th>\n",
              "      <td>FAMILY</td>\n",
              "      <td>1.000000e+05</td>\n",
              "      <td>2010.0</td>\n",
              "    </tr>\n",
              "    <tr>\n",
              "      <th>4</th>\n",
              "      <td>GAME</td>\n",
              "      <td>1.010000e+07</td>\n",
              "      <td>2011.0</td>\n",
              "    </tr>\n",
              "    <tr>\n",
              "      <th>5</th>\n",
              "      <td>LIBRARIES_AND_DEMO</td>\n",
              "      <td>1.000000e+07</td>\n",
              "      <td>2012.0</td>\n",
              "    </tr>\n",
              "    <tr>\n",
              "      <th>6</th>\n",
              "      <td>FAMILY</td>\n",
              "      <td>5.018831e+07</td>\n",
              "      <td>2013.0</td>\n",
              "    </tr>\n",
              "    <tr>\n",
              "      <th>7</th>\n",
              "      <td>PERSONALIZATION</td>\n",
              "      <td>7.259100e+07</td>\n",
              "      <td>2014.0</td>\n",
              "    </tr>\n",
              "    <tr>\n",
              "      <th>8</th>\n",
              "      <td>GAME</td>\n",
              "      <td>1.930985e+08</td>\n",
              "      <td>2015.0</td>\n",
              "    </tr>\n",
              "    <tr>\n",
              "      <th>0</th>\n",
              "      <td>GAME</td>\n",
              "      <td>3.231697e+08</td>\n",
              "      <td>2016.0</td>\n",
              "    </tr>\n",
              "    <tr>\n",
              "      <th>1</th>\n",
              "      <td>FAMILY</td>\n",
              "      <td>8.274036e+08</td>\n",
              "      <td>2017.0</td>\n",
              "    </tr>\n",
              "    <tr>\n",
              "      <th>2</th>\n",
              "      <td>GAME</td>\n",
              "      <td>2.543473e+10</td>\n",
              "      <td>2018.0</td>\n",
              "    </tr>\n",
              "  </tbody>\n",
              "</table>\n",
              "</div>"
            ],
            "text/plain": [
              "             Category      Installs    year\n",
              "3              FAMILY  1.000000e+05  2010.0\n",
              "4                GAME  1.010000e+07  2011.0\n",
              "5  LIBRARIES_AND_DEMO  1.000000e+07  2012.0\n",
              "6              FAMILY  5.018831e+07  2013.0\n",
              "7     PERSONALIZATION  7.259100e+07  2014.0\n",
              "8                GAME  1.930985e+08  2015.0\n",
              "0                GAME  3.231697e+08  2016.0\n",
              "1              FAMILY  8.274036e+08  2017.0\n",
              "2                GAME  2.543473e+10  2018.0"
            ]
          },
          "metadata": {
            "tags": []
          },
          "execution_count": 54
        }
      ]
    },
    {
      "cell_type": "markdown",
      "metadata": {
        "id": "gmr58Sy1JvPW"
      },
      "source": [
        "App categories that have got the most downloads by each year are tabulated above.We can see that apps belonging to family category were mostly installed during 2010 and by 2018,games have taken up their position to become the app category with most downloads.The number of installs of apps in general have also increase exponentially during the span of years.This is due to the increase in accessibility to smartphones."
      ]
    },
    {
      "cell_type": "code",
      "metadata": {
        "colab": {
          "base_uri": "https://localhost:8080/",
          "height": 543
        },
        "id": "5jYJuXLuJu0k",
        "outputId": "1f2291db-e7d0-4b9c-dc45-94119ab9f6dc"
      },
      "source": [
        "sns.set_style('dark')\n",
        "plt.figure(figsize=(10,8))\n",
        "\n",
        "sns.barplot(x='year',y='Installs',hue='Category',data=max_installs,palette='hls')"
      ],
      "execution_count": null,
      "outputs": [
        {
          "output_type": "execute_result",
          "data": {
            "text/plain": [
              "<matplotlib.axes._subplots.AxesSubplot at 0x7f296dd0d090>"
            ]
          },
          "metadata": {
            "tags": []
          },
          "execution_count": 56
        },
        {
          "output_type": "display_data",
          "data": {
            "image/png": "[encoded data removed]",
            "text/plain": [
              "<Figure size 720x576 with 1 Axes>"
            ]
          },
          "metadata": {
            "tags": []
          }
        }
      ]
    },
    {
      "cell_type": "code",
      "metadata": {
        "id": "WxzsAN_DMzSm"
      },
      "source": [
        ""
      ],
      "execution_count": null,
      "outputs": []
    }
  ]
}